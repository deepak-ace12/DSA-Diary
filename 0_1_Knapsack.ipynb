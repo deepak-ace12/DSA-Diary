{
 "cells": [
  {
   "attachments": {},
   "cell_type": "markdown",
   "id": "1a7d32c2-ad0b-4d87-9c65-ccc68dfc916d",
   "metadata": {},
   "source": [
    "## Steps to solve any Recursion problems\n",
    "1. Write the base condition\n",
    "2. Create a choice diagram\n",
    "3. Write the code with the help of base condition and choice diagram\n",
    "\n",
    "### Writing the Base Condition\n",
    "1. Think of the smallest valid input and the output for the same.\n",
    "   For example, to solve a knapsack problem to maximize profit, a function would take the weights, values, and the maximum capacity of the knapsack. The smallest valid case would be when there are no weights or values provided, the profit would be 0.\n",
    "\n",
    "    ```python3\n",
    "    if len(weigths) == 0 or len(values) == 0:\n",
    "        return 0\n",
    "    ```\n",
    "\n",
    "### Create a choice Diagram\n",
    "<div style=\"text-align: center;\">\n",
    "    <img src=\"attachment:static/0_1_knapsack.png\" alt=\"Description\" width=\"500\"/>\n",
    "</div>\n",
    "\n",
    "\n",
    "\n",
    "\n",
    "### Write the code with the help of base condition and choice diagram"
   ]
  },
  {
   "cell_type": "markdown",
   "id": "58265ec2-3926-4604-9af4-41af96397750",
   "metadata": {},
   "source": [
    "def maximize_profit(weights: list, values: list, capacity: int) -> int:\n",
    "    if len(weights) == 0 or len(values) == 0:\n",
    "        return 0\n",
    "    if weights[0] <= capacity:\n",
    "        return max(\n",
    "            values[0] + maximize_profit(weights[1:], values[1:], capacity - weights[0]),\n",
    "            maximize_profit(weights[1:], values[1:], capacity),\n",
    "        )\n",
    "    else:\n",
    "        return maximize_profit(weights[1:], values[1:], capacity)"
   ]
  },
  {
   "cell_type": "code",
   "execution_count": 10,
   "id": "1c2cfd33-e002-4417-b9e8-399eb1933fab",
   "metadata": {},
   "outputs": [
    {
     "data": {
      "text/plain": [
       "175"
      ]
     },
     "execution_count": 10,
     "metadata": {},
     "output_type": "execute_result"
    }
   ],
   "source": [
    "weights = [1, 2, 3, 4, 5, 6, 7, 8, 9, 10]\n",
    "values = [10, 15, 40, 30, 50, 10, 25, 40, 60, 70]\n",
    "capacity = 20\n",
    "maximize_profit(weights, values, capacity)\n"
   ]
  },
  {
   "cell_type": "markdown",
   "id": "35c4e20d-32da-4d38-816e-61f63ef93778",
   "metadata": {},
   "source": [
    "### Knapsack with memoization"
   ]
  },
  {
   "cell_type": "code",
   "execution_count": 2,
   "id": "00f6be59-7b21-4e85-8fa2-33db953d31f3",
   "metadata": {},
   "outputs": [
    {
     "ename": "SyntaxError",
     "evalue": "incomplete input (1554533063.py, line 5)",
     "output_type": "error",
     "traceback": [
      "\u001b[0;36m  Cell \u001b[0;32mIn[2], line 5\u001b[0;36m\u001b[0m\n\u001b[0;31m    if (index, capacity) in memo:\u001b[0m\n\u001b[0m                                 ^\u001b[0m\n\u001b[0;31mSyntaxError\u001b[0m\u001b[0;31m:\u001b[0m incomplete input\n"
     ]
    }
   ],
   "source": [
    "memo = {}\n",
    "def maximize_profit(weights: list, values: list, capacity: int, index: int) -> int:\n",
    "    if len(weights) == 0 or len(values) == 0:\n",
    "        return 0\n",
    "    if (index, capacity) in memo:\n",
    "        return memo[(index, capacity)\n",
    "    if "
   ]
  },
  {
   "cell_type": "code",
   "execution_count": null,
   "id": "bc0dc969-52b2-441f-88b2-c5ef517f9c37",
   "metadata": {},
   "outputs": [],
   "source": []
  }
 ],
 "metadata": {
  "kernelspec": {
   "display_name": "Python 3 (ipykernel)",
   "language": "python",
   "name": "python3"
  },
  "language_info": {
   "codemirror_mode": {
    "name": "ipython",
    "version": 3
   },
   "file_extension": ".py",
   "mimetype": "text/x-python",
   "name": "python",
   "nbconvert_exporter": "python",
   "pygments_lexer": "ipython3",
   "version": "3.10.13"
  }
 },
 "nbformat": 4,
 "nbformat_minor": 5
}
