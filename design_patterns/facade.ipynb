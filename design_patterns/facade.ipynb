{
 "cells": [
  {
   "cell_type": "markdown",
   "id": "57dd4010-e5e4-44ed-8582-005528c8293f",
   "metadata": {},
   "source": [
    "# Facade Pattern\n",
    "\n",
    "The Facade Pattern is a design pattern that provides a simplified interface to a complex subsystem or set of interfaces. It acts as a \"facade\" or front-facing interface that makes the subsystem easier to use.\n",
    "\n",
    "## Simplest Explanation\n",
    "\n",
    "Imagine you have a really fancy coffee machine that requires you to press a series of buttons, set the temperature, choose the grind level, etc., to make coffee. It’s complicated and involves many steps.\n",
    "\n",
    "Now, instead of dealing with all these buttons and settings directly, you get a simple coffee machine with just one button that says \"Make Coffee\". When you press this button, the machine handles all the complex steps for you behind the scenes.\n",
    "\n",
    "In software, the Facade Pattern works the same way. It hides the complexity of interacting with a set of classes or a subsystem and provides a simpler interface to the client.\n",
    "\n",
    "## Example\n",
    "\n",
    "Let's say you’re working with a complex library for handling media files, and it involves different classes for loading, decoding, and playing audio and video files.\n",
    "\n",
    "### Without Facade Pattern\n"
   ]
  },
  {
   "cell_type": "code",
   "execution_count": null,
   "id": "a0d7fccb-89a0-4f8d-a21b-5e58159e3877",
   "metadata": {},
   "outputs": [],
   "source": [
    "audio_loader = AudioLoader()\n",
    "video_loader = VideoLoader()\n",
    "audio_decoder = AudioDecoder()\n",
    "video_decoder = VideoDecoder()\n",
    "audio_player = AudioPlayer()\n",
    "video_player = VideoPlayer()\n",
    "\n",
    "# Load, decode, and play audio\n",
    "audio_loader.load(\"song.mp3\")\n",
    "audio_data = audio_decoder.decode(audio_loader.get_data())\n",
    "audio_player.play(audio_data)\n",
    "\n",
    "# Load, decode, and play video\n",
    "video_loader.load(\"movie.mp4\")\n",
    "video_data = video_decoder.decode(video_loader.get_data())\n",
    "video_player.play(video_data)\n"
   ]
  },
  {
   "cell_type": "markdown",
   "id": "46c9f608-ba7e-4e0f-b2fc-dfc4eb5f1f47",
   "metadata": {},
   "source": [
    "### With Facade Pattern"
   ]
  },
  {
   "cell_type": "code",
   "execution_count": null,
   "id": "43eaf3dd-093d-4d4d-a317-6b7bc091f79d",
   "metadata": {},
   "outputs": [],
   "source": [
    "class MediaFacade:\n",
    "    def __init__(self):\n",
    "        self.audio_loader = AudioLoader()\n",
    "        self.video_loader = VideoLoader()\n",
    "        self.audio_decoder = AudioDecoder()\n",
    "        self.video_decoder = VideoDecoder()\n",
    "        self.audio_player = AudioPlayer()\n",
    "        self.video_player = VideoPlayer()\n",
    "\n",
    "    def play_audio(self, filename):\n",
    "        self.audio_loader.load(filename)\n",
    "        audio_data = self.audio_decoder.decode(self.audio_loader.get_data())\n",
    "        self.audio_player.play(audio_data)\n",
    "\n",
    "    def play_video(self, filename):\n",
    "        self.video_loader.load(filename)\n",
    "        video_data = self.video_decoder.decode(self.video_loader.get_data())\n",
    "        self.video_player.play(video_data)\n",
    "\n",
    "# Using the Facade\n",
    "media_facade = MediaFacade()\n",
    "media_facade.play_audio(\"song.mp3\")\n",
    "media_facade.play_video(\"movie.mp4\")\n"
   ]
  },
  {
   "cell_type": "markdown",
   "id": "95ae66d8-9d59-44eb-b171-05884018a86e",
   "metadata": {},
   "source": [
    "## Usage\n",
    "\n",
    "1. **Home Theater System**: A single interface simplifies control of multiple devices (TV, DVD, sound system).\n",
    "2. **Library Management**: A facade provides a simplified interface for managing books, patrons, and loans.\n",
    "3. **Banking Services**: A banking app offers a simple interface to access various services (loans, accounts, transfers).\n",
    "4. **E-commerce Checkout**: A unified checkout process simplifies interactions with payment, shipping, and inventory systems.\n",
    "5. **API Gateway**: A facade simplifies client access to multiple microservices in an application.\n"
   ]
  },
  {
   "cell_type": "code",
   "execution_count": null,
   "id": "462f1311-677c-437d-91af-39d3f023fe4d",
   "metadata": {},
   "outputs": [],
   "source": []
  }
 ],
 "metadata": {
  "kernelspec": {
   "display_name": "Python 3 (ipykernel)",
   "language": "python",
   "name": "python3"
  },
  "language_info": {
   "codemirror_mode": {
    "name": "ipython",
    "version": 3
   },
   "file_extension": ".py",
   "mimetype": "text/x-python",
   "name": "python",
   "nbconvert_exporter": "python",
   "pygments_lexer": "ipython3",
   "version": "3.10.13"
  }
 },
 "nbformat": 4,
 "nbformat_minor": 5
}
