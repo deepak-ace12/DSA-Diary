{
 "cells": [
  {
   "cell_type": "markdown",
   "id": "4735bd7e-0589-4685-84b4-bf20ef223a5d",
   "metadata": {},
   "source": [
    "# Singleton\n",
    "\n",
    "## Concept\n",
    "- **Single Instance**: The pattern ensures that only one instance of the class is created.\n",
    "- **Global Access**: The pattern provides a way to access that single instance globally.\n",
    "\n",
    "## How It Works\n",
    "- **Private Constructor**: The constructor is private to prevent direct instantiation from outside the class.\n",
    "- **Static Method**: A static method (often called `get_instance` or similar) is used to provide access to the single instance of the class.\n",
    "\n",
    "## Example in Python\n",
    "Here’s a simple example of the Singleton pattern implemented in Python:"
   ]
  },
  {
   "cell_type": "code",
   "execution_count": 4,
   "id": "6adafb9a-2acd-47e7-a572-12fc6361f73b",
   "metadata": {},
   "outputs": [
    {
     "name": "stdout",
     "output_type": "stream",
     "text": [
      "True\n",
      "New Value\n"
     ]
    }
   ],
   "source": [
    "import threading\n",
    "\n",
    "class Singleton:\n",
    "    _instance = None  # Class variable to hold the single instance\n",
    "    _lock = threading.Lock()  # Lock object for synchronization\n",
    "\n",
    "    def __new__(cls):\n",
    "        with cls._lock:  # Acquire lock before checking/creating instance\n",
    "            if cls._instance is None:\n",
    "                cls._instance = super(Singleton, cls).__new__(cls)\n",
    "                    # Initialize any additional resources if necessary\n",
    "        return cls._instance\n",
    "\n",
    "    def __init__(self):\n",
    "        # Initialization logic if needed\n",
    "        if not hasattr(self, 'initialized'):  # Avoid reinitializing the instance\n",
    "            self.value = \"Initial Value\"\n",
    "            self.initialized = True\n",
    "\n",
    "\n",
    "# Usage\n",
    "singleton1 = Singleton()\n",
    "singleton2 = Singleton()\n",
    "\n",
    "print(singleton1 is singleton2)  # True, both are the same instance\n",
    "\n",
    "singleton1.value = \"New Value\"\n",
    "print(singleton2.value)  # \"New Value\", changes are reflected across all references"
   ]
  },
  {
   "cell_type": "markdown",
   "id": "fe293994-730f-4953-9810-a361254e4781",
   "metadata": {},
   "source": [
    "## Usage\n",
    "\n",
    "**Configuration Management:** Centralizes application settings for consistent access throughout.\n",
    "\n",
    "**Logging:** Ensures single log instance for unified application logging.\n",
    "\n",
    "**Database Connections:** Manages single connection pool for efficient resource usage.\n",
    "\n",
    "**Thread Pools:** Controls fixed threads for handling concurrent tasks efficiently.\n",
    "\n",
    "**Caching:** Provides shared cache instance for improved data retrieval performance.\n"
   ]
  },
  {
   "cell_type": "code",
   "execution_count": null,
   "id": "91669306-50c5-46b9-a9e6-daa27ecabe6e",
   "metadata": {},
   "outputs": [],
   "source": []
  }
 ],
 "metadata": {
  "kernelspec": {
   "display_name": "Python 3 (ipykernel)",
   "language": "python",
   "name": "python3"
  },
  "language_info": {
   "codemirror_mode": {
    "name": "ipython",
    "version": 3
   },
   "file_extension": ".py",
   "mimetype": "text/x-python",
   "name": "python",
   "nbconvert_exporter": "python",
   "pygments_lexer": "ipython3",
   "version": "3.10.13"
  }
 },
 "nbformat": 4,
 "nbformat_minor": 5
}
