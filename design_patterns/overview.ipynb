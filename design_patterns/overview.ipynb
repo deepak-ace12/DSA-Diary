{
 "cells": [
  {
   "cell_type": "markdown",
   "id": "f02aa02d-0de4-4d06-ac60-7c904a936c1c",
   "metadata": {},
   "source": [
    "# Design Patterns\n",
    "\n",
    "## Creational Patterns\n",
    "\n",
    "- **Singleton**: Ensures a class has only one instance and provides a global point of access to it.\n",
    "- **Factory Method**: Defines an interface for creating objects but allows subclasses to alter the type of objects that will be created.\n",
    "- **Abstract Factory**: Provides an interface for creating families of related or dependent objects without specifying their concrete classes.\n",
    "- **Builder**: Separates the construction of a complex object from its representation so that the same construction process can create different representations.\n",
    "- **Prototype**: Creates new objects by copying an existing object, known as the prototype.\n",
    "\n",
    "## Structural Patterns\n",
    "\n",
    "- **Adapter**: Allows incompatible interfaces to work together by converting the interface of a class into another interface that a client expects.\n",
    "- **Bridge**: Separates an abstraction from its implementation so that the two can vary independently.\n",
    "- **Composite**: Composes objects into tree structures to represent part-whole hierarchies.\n",
    "- **Decorator**: Adds additional responsibilities to an object dynamically.\n",
    "- **Facade**: Provides a simplified interface to a complex subsystem.\n",
    "- **Flyweight**: Reduces the cost of creating and manipulating a large number of similar objects by sharing instances.\n",
    "- **Proxy**: Provides a surrogate or placeholder for another object to control access to it.\n",
    "\n",
    "## Behavioral Patterns\n",
    "\n",
    "- **Chain of Responsibility**: Passes a request along a chain of handlers, where each handler can either handle the request or pass it along to the next handler in the chain.\n",
    "- **Command**: Encapsulates a request as an object, thereby allowing parameterization of clients with different requests, queuing of requests, and logging of the requests.\n",
    "- **Interpreter**: Defines a grammar for a language and provides an interpreter to interpret sentences of the language.\n",
    "- **Iterator**: Provides a way to access the elements of an aggregate object sequentially without exposing its underlying representation.\n",
    "- **Mediator**: Defines an object that encapsulates how a set of objects interact, promoting loose coupling.\n",
    "- **Memento**: Captures and externalizes an object's internal state without violating encapsulation, allowing the object to be restored to that state later.\n",
    "- **Observer**: Defines a dependency between objects so that when one object changes state, all its dependents are notified and updated automatically.\n",
    "- **State**: Allows an object to alter its behavior when its internal state changes, appearing as if the object has changed its class.\n",
    "- **Strategy**: Defines a family of algorithms, encapsulates each algorithm, and makes them interchangeable. The strategy pattern lets the algorithm vary independently from the clients that use it.\n",
    "- **Template Method**: Defines the skeleton of an algorithm in the superclass but lets subclasses override specific steps of the algorithm without changing its structure.\n",
    "- **Visitor**: Defines a new operation to a class without changing the class itself, by separating algorithms from the objects on which they operate.\n"
   ]
  },
  {
   "cell_type": "code",
   "execution_count": null,
   "id": "12579bba-c2d9-44ee-a2e1-01942fa300cb",
   "metadata": {},
   "outputs": [],
   "source": []
  }
 ],
 "metadata": {
  "kernelspec": {
   "display_name": "Python 3 (ipykernel)",
   "language": "python",
   "name": "python3"
  },
  "language_info": {
   "codemirror_mode": {
    "name": "ipython",
    "version": 3
   },
   "file_extension": ".py",
   "mimetype": "text/x-python",
   "name": "python",
   "nbconvert_exporter": "python",
   "pygments_lexer": "ipython3",
   "version": "3.10.13"
  }
 },
 "nbformat": 4,
 "nbformat_minor": 5
}
