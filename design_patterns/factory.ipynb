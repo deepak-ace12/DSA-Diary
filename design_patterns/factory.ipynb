{
 "cells": [
  {
   "cell_type": "markdown",
   "id": "7b9bea94-8c88-41da-b21c-6200b0ac333b",
   "metadata": {},
   "source": [
    "# Factory\n",
    "\n",
    "The Factory Method is a method in a base class that creates objects. The exact type of object is determined by subclasses, which implement the factory method to create and return an instance of the correct type.\n",
    "\n",
    "It allows a class to delegate the responsibility of object creation to its subclasses. This means that the base class doesn't need to know about the specific classes it needs to instantiate, which promotes loose coupling."
   ]
  },
  {
   "cell_type": "code",
   "execution_count": 1,
   "id": "203c8362-9977-4bb4-bd88-4ac5d141ff4a",
   "metadata": {},
   "outputs": [
    {
     "name": "stdout",
     "output_type": "stream",
     "text": [
      "Driving a car\n",
      "Riding a bike\n"
     ]
    }
   ],
   "source": [
    "from abc import ABC, abstractmethod\n",
    "\n",
    "# Abstract base class\n",
    "class Vehicle(ABC):\n",
    "    @abstractmethod\n",
    "    def drive(self):\n",
    "        pass\n",
    "\n",
    "# Concrete classes\n",
    "class Car(Vehicle):\n",
    "    def drive(self):\n",
    "        return \"Driving a car\"\n",
    "\n",
    "class Bike(Vehicle):\n",
    "    def drive(self):\n",
    "        return \"Riding a bike\"\n",
    "\n",
    "# Factory class\n",
    "class VehicleFactory:\n",
    "    @staticmethod\n",
    "    def create_vehicle(vehicle_type):\n",
    "        if vehicle_type == \"car\":\n",
    "            return Car()\n",
    "        elif vehicle_type == \"bike\":\n",
    "            return Bike()\n",
    "        else:\n",
    "            raise ValueError(\"Unknown vehicle type\")\n",
    "\n",
    "# Usage\n",
    "factory = VehicleFactory()\n",
    "\n",
    "vehicle1 = factory.create_vehicle(\"car\")\n",
    "vehicle2 = factory.create_vehicle(\"bike\")\n",
    "\n",
    "print(vehicle1.drive())  # Output: Driving a car\n",
    "print(vehicle2.drive())  # Output: Riding a bike"
   ]
  },
  {
   "cell_type": "markdown",
   "id": "47e04ea8-cfb3-48f6-a885-032d61041e04",
   "metadata": {},
   "source": [
    "## Usage\n",
    "\n",
    "1. **Coffee Machine**: A coffee machine (factory) can make different types of coffee (espresso, latte, cappuccino) without the user needing to know how each is brewed.\n",
    "2. **Document Processing Software**: A software tool (factory) can generate different document types (PDF, Word, Excel) based on the user’s needs, without exposing the underlying generation logic.\n",
    "3. **Payment Gateways**: An e-commerce site (factory) integrates various payment options (credit card, PayPal, Stripe) without the customer knowing how each payment method is processed.\n",
    "4. **Smartphone Manufacturing**: A smartphone manufacturer (factory) assembles various models of smartphones (iPhone, Galaxy, Pixel) based on customer orders, hiding the complex assembly process.\n",
    "5. **Car Dealership**: A car dealership (factory) provides different types of vehicles (sedan, SUV, truck) for customers, handling the complex vehicle assembly without customer involvement.\n",
    "6. **Online Shopping Platform**: An online platform (factory) can display and handle the purchase of various product categories (electronics, clothing, groceries) without exposing backend processing details.\n",
    "7. **Movie Streaming Services**: A streaming platform (factory) offers different types of content (movies, series, documentaries) based on user preferences, without the user needing to know the content delivery process.\n"
   ]
  },
  {
   "cell_type": "code",
   "execution_count": null,
   "id": "19766940-9904-400d-b390-4bc564cda67b",
   "metadata": {},
   "outputs": [],
   "source": []
  }
 ],
 "metadata": {
  "kernelspec": {
   "display_name": "Python 3 (ipykernel)",
   "language": "python",
   "name": "python3"
  },
  "language_info": {
   "codemirror_mode": {
    "name": "ipython",
    "version": 3
   },
   "file_extension": ".py",
   "mimetype": "text/x-python",
   "name": "python",
   "nbconvert_exporter": "python",
   "pygments_lexer": "ipython3",
   "version": "3.10.13"
  }
 },
 "nbformat": 4,
 "nbformat_minor": 5
}
