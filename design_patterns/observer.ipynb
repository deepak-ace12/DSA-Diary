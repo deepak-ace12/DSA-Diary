{
 "cells": [
  {
   "cell_type": "markdown",
   "id": "a5f34cd1-4381-4644-a67a-7be5ebb07a07",
   "metadata": {},
   "source": [
    "# Observer\n",
    "\n",
    "The Observer Design Pattern is a way to let objects (observers) listen and react to changes in another object (the subject) without the subject needing to know anything about the observers. It's commonly used to implement distributed event-handling systems.\n",
    "\n",
    "## Simplest Explanation\n",
    "\n",
    "- **Subject**: This is the object that changes and needs to notify others when it does.\n",
    "- **Observers**: These are the objects that need to know when the subject changes.\n",
    "\n",
    "When the subject changes, it sends notifications to all registered observers. This way, observers can update themselves without the subject needing to know the specifics about each observer.\n",
    "\n",
    "## Example: Weather Station\n",
    "\n",
    "Imagine you have a weather station that measures temperature. You want to notify multiple devices (like a phone app, a display board, etc.) whenever the temperature changes.\n",
    "\n",
    "### Components:\n",
    "- **WeatherStation (Subject)**: This is where the temperature measurement happens.\n",
    "- **TemperatureDisplay (Observer)**: This is a display that shows the current temperature.\n",
    "- **TemperatureApp (Observer)**: This is a phone app that shows the current temperature.\n"
   ]
  },
  {
   "cell_type": "code",
   "execution_count": 1,
   "id": "180d3eb2-c562-4d83-944f-ec7e065dfb2d",
   "metadata": {},
   "outputs": [
    {
     "name": "stdout",
     "output_type": "stream",
     "text": [
      "TemperatureDisplay: The current temperature is 25°C\n",
      "TemperatureApp: The current temperature is 25°C\n"
     ]
    }
   ],
   "source": [
    "# Observer Interface\n",
    "class Observer:\n",
    "    def update(self, temperature):\n",
    "        pass\n",
    "\n",
    "# Concrete Observer: TemperatureDisplay\n",
    "class TemperatureDisplay(Observer):\n",
    "    def update(self, temperature):\n",
    "        print(f\"TemperatureDisplay: The current temperature is {temperature}°C\")\n",
    "\n",
    "# Concrete Observer: TemperatureApp\n",
    "class TemperatureApp(Observer):\n",
    "    def update(self, temperature):\n",
    "        print(f\"TemperatureApp: The current temperature is {temperature}°C\")\n",
    "\n",
    "# Subject: WeatherStation\n",
    "class WeatherStation:\n",
    "    def __init__(self):\n",
    "        self._observers = []\n",
    "        self._temperature = 0\n",
    "\n",
    "    def add_observer(self, observer):\n",
    "        self._observers.append(observer)\n",
    "\n",
    "    def remove_observer(self, observer):\n",
    "        self._observers.remove(observer)\n",
    "\n",
    "    def set_temperature(self, temperature):\n",
    "        self._temperature = temperature\n",
    "        self._notify_observers()\n",
    "\n",
    "    def _notify_observers(self):\n",
    "        for observer in self._observers:\n",
    "            observer.update(self._temperature)\n",
    "\n",
    "# Usage\n",
    "weather_station = WeatherStation()\n",
    "\n",
    "display = TemperatureDisplay()\n",
    "app = TemperatureApp()\n",
    "\n",
    "weather_station.add_observer(display)\n",
    "weather_station.add_observer(app)\n",
    "\n",
    "weather_station.set_temperature(25)  # Both observers will be notified\n"
   ]
  },
  {
   "cell_type": "markdown",
   "id": "d454ad4d-50bb-4cef-bea7-4956cde04301",
   "metadata": {},
   "source": [
    "# Usage\n",
    "\n",
    "1. **Social Media Notifications**: Users receive updates when friends post or comment.\n",
    "2. **Weather Stations**: Applications update users with real-time weather data from sensors.\n",
    "3. **Stock Market Tracking**: Investors get alerts on stock price changes from market data feeds.\n",
    "4. **Messaging Apps**: Users are notified of new messages in real-time.\n",
    "5. **Online Shopping Carts**: Customers receive updates when items in their cart go on sale.\n"
   ]
  },
  {
   "cell_type": "code",
   "execution_count": null,
   "id": "6fcd47a9-bd37-47f3-92f6-23a3457a0877",
   "metadata": {},
   "outputs": [],
   "source": []
  }
 ],
 "metadata": {
  "kernelspec": {
   "display_name": "Python 3 (ipykernel)",
   "language": "python",
   "name": "python3"
  },
  "language_info": {
   "codemirror_mode": {
    "name": "ipython",
    "version": 3
   },
   "file_extension": ".py",
   "mimetype": "text/x-python",
   "name": "python",
   "nbconvert_exporter": "python",
   "pygments_lexer": "ipython3",
   "version": "3.10.13"
  }
 },
 "nbformat": 4,
 "nbformat_minor": 5
}
