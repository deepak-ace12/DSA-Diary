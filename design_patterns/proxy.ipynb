{
 "cells": [
  {
   "cell_type": "markdown",
   "id": "99bf791e-5fb1-4ce0-bdcc-e1c83ba6222b",
   "metadata": {},
   "source": [
    "# Proxy Pattern\n",
    "\n",
    "The Proxy design pattern is a structural design pattern that provides an object representing another object. This can be useful for controlling access to the original object, adding functionality, or lazy loading.\n",
    "\n",
    "## Simplified Explanation\n",
    "\n",
    "- **Proxy**: Acts as a placeholder or intermediary for another object.\n",
    "- **Real Subject**: The actual object that performs the operations.\n",
    "- **Client**: The object that interacts with the proxy.\n",
    "\n",
    "## Example in Python\n",
    "\n",
    "Let's say we have a simple `Image` class that loads an image from a file. Loading an image can be resource-intensive, so we'll use a proxy to load it only when needed.\n"
   ]
  },
  {
   "cell_type": "code",
   "execution_count": 2,
   "id": "e1c808d4-578a-4885-bcc8-5dcf9a4a1980",
   "metadata": {},
   "outputs": [
    {
     "name": "stdout",
     "output_type": "stream",
     "text": [
      "Loading image: example_image.jpg\n",
      "Displaying image: example_image.jpg\n",
      "Displaying image: example_image.jpg\n"
     ]
    }
   ],
   "source": [
    "from abc import ABC, abstractmethod\n",
    "\n",
    "# Step 1: Create the Subject interface\n",
    "class Image(ABC):\n",
    "    @abstractmethod\n",
    "    def display(self):\n",
    "        pass\n",
    "\n",
    "# Step 2: Create the RealSubject class\n",
    "class RealImage(Image):\n",
    "    def __init__(self, filename):\n",
    "        self.filename = filename\n",
    "        self.load_image()\n",
    "\n",
    "    def load_image(self):\n",
    "        print(f\"Loading image: {self.filename}\")\n",
    "\n",
    "    def display(self):\n",
    "        print(f\"Displaying image: {self.filename}\")\n",
    "\n",
    "# Step 3: Create the Proxy class\n",
    "class ProxyImage(Image):\n",
    "    def __init__(self, filename):\n",
    "        self.filename = filename\n",
    "        self.real_image = None\n",
    "\n",
    "    def display(self):\n",
    "        if self.real_image is None:\n",
    "            self.real_image = RealImage(self.filename)  # Load image only when needed\n",
    "        self.real_image.display()\n",
    "\n",
    "# Step 4: Client code\n",
    "if __name__ == \"__main__\":\n",
    "    # Create a proxy for the image\n",
    "    proxy_image = ProxyImage(\"example_image.jpg\")\n",
    "\n",
    "    # The image is loaded here\n",
    "    proxy_image.display()  # First call loads the image\n",
    "\n",
    "    # The image is displayed without loading again\n",
    "    proxy_image.display()  # Subsequent call uses the loaded image\n"
   ]
  },
  {
   "cell_type": "markdown",
   "id": "5a6b8883-2c8c-44e9-8115-524eeb918903",
   "metadata": {},
   "source": [
    "## How It Works\n",
    "- **RealImage**: This class represents the actual image. It loads the image data when it's created.\n",
    "- **ProxyImage**: This class acts as a proxy. It delays the loading of the real image until the `display()` method is called.\n",
    "- **Client**: When you call `display()` on `ProxyImage`, it checks if the real image is loaded. If not, it creates and loads it first.\n",
    "\n",
    "## Benefits\n",
    "- **Lazy Loading**: The image is loaded only when needed, saving resources.\n",
    "- **Control**: You can add additional logic (like access control or caching) in the proxy without modifying the real subject.\n",
    "\n",
    "## Usage\n",
    "\n",
    "### 1. Virtual Proxy (Lazy Loading)\n",
    "- **Use Case**: Image and Video Streaming\n",
    "- **Example**: In applications like photo galleries or video streaming services (e.g., Netflix), images or videos are not loaded until they are needed. A proxy can delay loading these resources until the user navigates to the relevant section, optimizing performance and reducing memory usage.\n",
    "\n",
    "### 2. Protection Proxy\n",
    "- **Use Case**: Security and Access Control\n",
    "- **Example**: In a banking application, a proxy can check user permissions before allowing access to sensitive data. The proxy ensures that only authorized users can perform certain operations, adding a layer of security.\n",
    "\n",
    "### 3. Caching Proxy\n",
    "- **Use Case**: Data Retrieval\n",
    "- **Example**: In web applications, a caching proxy can store the results of expensive database queries. If the same data is requested again, the proxy can serve it from the cache instead of querying the database, improving response times and reducing load.\n"
   ]
  },
  {
   "cell_type": "code",
   "execution_count": null,
   "id": "5cf6f932-9695-479b-97a1-f7ca592a2b48",
   "metadata": {},
   "outputs": [],
   "source": []
  }
 ],
 "metadata": {
  "kernelspec": {
   "display_name": "Python 3 (ipykernel)",
   "language": "python",
   "name": "python3"
  },
  "language_info": {
   "codemirror_mode": {
    "name": "ipython",
    "version": 3
   },
   "file_extension": ".py",
   "mimetype": "text/x-python",
   "name": "python",
   "nbconvert_exporter": "python",
   "pygments_lexer": "ipython3",
   "version": "3.10.13"
  }
 },
 "nbformat": 4,
 "nbformat_minor": 5
}
