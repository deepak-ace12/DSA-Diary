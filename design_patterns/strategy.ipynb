{
 "cells": [
  {
   "cell_type": "markdown",
   "id": "17288565-96f9-457f-9b62-b1e3aa7c7008",
   "metadata": {},
   "source": [
    "# Strategy Pattern\n",
    "\n",
    "The Strategy Pattern is a way to design code that allows you to swap out different methods or strategies easily. Instead of having one big piece of code for everything, you can create different methods (strategies) and switch between them as needed.\n",
    "\n",
    "## Key Parts of the Strategy Pattern\n",
    "\n",
    "- **Strategy Interface**:  \n",
    "  Think of this as a blueprint. It sets up a common way to do things, but doesn’t actually do them. All the different methods you want to use will follow this blueprint.\n",
    "\n",
    "- **Concrete Strategies**:  \n",
    "  These are the actual methods or ways to do things that follow the blueprint. Each one does something specific, like sorting numbers or making a payment.\n",
    "\n",
    "- **Context**:  \n",
    "  This is the part of your code that uses the methods. It holds a reference to one of the methods and can change which method it uses at any time.\n"
   ]
  },
  {
   "cell_type": "code",
   "execution_count": 1,
   "id": "915c8fb7-6d89-4f84-899d-58f051396a14",
   "metadata": {},
   "outputs": [
    {
     "name": "stdout",
     "output_type": "stream",
     "text": [
      "Paid 100.0 using Credit Card ending in 5678\n",
      "Paid 150.0 using PayPal account user@example.com\n",
      "Paid 200.0 using cryptocurrency wallet 1A1zP1eP5QGefi2DMPTfTL5SLmv7DivfNa\n"
     ]
    }
   ],
   "source": [
    "from typing import Protocol\n",
    "\n",
    "# 1. Strategy Interface\n",
    "class PaymentStrategy(Protocol):\n",
    "    def pay(self, amount: float) -> str:\n",
    "        pass\n",
    "\n",
    "# 2. Concrete Strategies\n",
    "class CreditCardPayment(PaymentStrategy):\n",
    "    def __init__(self, card_number: str):\n",
    "        self.card_number = card_number\n",
    "\n",
    "    def pay(self, amount: float) -> str:\n",
    "        # Imagine some logic to process the payment\n",
    "        return f\"Paid {amount} using Credit Card ending in {self.card_number[-4:]}\"\n",
    "\n",
    "class PayPalPayment(PaymentStrategy):\n",
    "    def __init__(self, email: str):\n",
    "        self.email = email\n",
    "\n",
    "    def pay(self, amount: float) -> str:\n",
    "        # Imagine some logic to process the payment\n",
    "        return f\"Paid {amount} using PayPal account {self.email}\"\n",
    "\n",
    "class CryptoPayment(PaymentStrategy):\n",
    "    def __init__(self, wallet_address: str):\n",
    "        self.wallet_address = wallet_address\n",
    "\n",
    "    def pay(self, amount: float) -> str:\n",
    "        # Imagine some logic to process the payment\n",
    "        return f\"Paid {amount} using cryptocurrency wallet {self.wallet_address}\"\n",
    "\n",
    "# 3. Context\n",
    "class PaymentProcessor:\n",
    "    def __init__(self, strategy: PaymentStrategy):\n",
    "        self._strategy = strategy\n",
    "\n",
    "    def set_strategy(self, strategy: PaymentStrategy):\n",
    "        self._strategy = strategy\n",
    "\n",
    "    def process_payment(self, amount: float) -> str:\n",
    "        return self._strategy.pay(amount)\n",
    "\n",
    "# Example usage\n",
    "if __name__ == \"__main__\":\n",
    "    # Create different payment strategies\n",
    "    credit_card_payment = CreditCardPayment(card_number=\"1234567812345678\")\n",
    "    paypal_payment = PayPalPayment(email=\"user@example.com\")\n",
    "    crypto_payment = CryptoPayment(wallet_address=\"1A1zP1eP5QGefi2DMPTfTL5SLmv7DivfNa\")\n",
    "\n",
    "    # Process payments using different strategies\n",
    "    processor = PaymentProcessor(credit_card_payment)\n",
    "    print(processor.process_payment(100.0))  # Output: Paid 100.0 using Credit Card ending in 5678\n",
    "\n",
    "    processor.set_strategy(paypal_payment)\n",
    "    print(processor.process_payment(150.0))  # Output: Paid 150.0 using PayPal account user@example.com\n",
    "\n",
    "    processor.set_strategy(crypto_payment)\n",
    "    print(processor.process_payment(200.0))  # Output: Paid 200.0 using cryptocurrency wallet 1A1zP1eP5QGefi2DMPTfTL5SLmv7DivfNa\n",
    "\n"
   ]
  },
  {
   "cell_type": "markdown",
   "id": "505c213e-4ff4-4851-bb2c-2ba0ea109e2d",
   "metadata": {},
   "source": [
    "## Usage\n",
    "\n",
    "1. **Payment Processing**: E-commerce sites offer multiple payment methods (credit card, PayPal).\n",
    "2. **Sorting Algorithms**: Applications choose different sorting strategies based on data size.\n",
    "3. **Route Navigation**: GPS systems use various routing strategies (shortest, fastest) for directions.\n",
    "4. **Discount Calculation**: Retailers apply different discount strategies (seasonal, bulk) based on promotions.\n",
    "5. **Game AI**: Video games use different strategies for character behavior (aggressive, defensive) based on context.\n"
   ]
  },
  {
   "cell_type": "code",
   "execution_count": null,
   "id": "a26554b7-f5a8-4937-96ac-68aeff27b340",
   "metadata": {},
   "outputs": [],
   "source": []
  }
 ],
 "metadata": {
  "kernelspec": {
   "display_name": "Python 3 (ipykernel)",
   "language": "python",
   "name": "python3"
  },
  "language_info": {
   "codemirror_mode": {
    "name": "ipython",
    "version": 3
   },
   "file_extension": ".py",
   "mimetype": "text/x-python",
   "name": "python",
   "nbconvert_exporter": "python",
   "pygments_lexer": "ipython3",
   "version": "3.10.13"
  }
 },
 "nbformat": 4,
 "nbformat_minor": 5
}
