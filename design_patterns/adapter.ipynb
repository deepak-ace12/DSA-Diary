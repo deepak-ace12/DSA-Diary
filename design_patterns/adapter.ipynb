{
 "cells": [
  {
   "cell_type": "markdown",
   "id": "dc2982e2-bb30-4b78-a747-9b51e2d09a8a",
   "metadata": {},
   "source": [
    "# Adapter Pattern\n",
    "\n",
    "The Adapter Pattern is a design pattern used in software development to allow two incompatible interfaces to work together. Think of it like a power adapter that lets you plug a device into a different type of electrical outlet.\n",
    "\n",
    "## Simple Explanation\n",
    "\n",
    "Imagine you have a phone charger with a USB plug and you want to use it in an old-style outlet that only accepts a different kind of plug. The adapter is a small device that converts the USB plug into a compatible format for the old outlet. Similarly, in programming, an adapter translates one interface (how something expects to interact) into another interface that is expected by the system.\n",
    "\n",
    "## Real-Life Example: Card Reader for a Legacy Payment System\n",
    "\n",
    "Imagine a retail store that has an old point-of-sale (POS) system designed to process transactions using an old-style magnetic stripe card reader. Now, they want to upgrade to newer smart card readers that use chip technology for added security, but the old POS system doesn’t directly support these new devices.\n",
    "\n",
    "### Problem:\n",
    "- **Old POS System**: Can only process transactions with magnetic stripe readers.\n",
    "- **New Smart Card Reader**: Uses chip technology that the old POS system can’t understand.\n",
    "\n",
    "### Solution: Card Reader Adapter\n",
    "A card reader adapter can be used to bridge the gap between the new smart card reader and the old POS system. This adapter would translate the data from the smart card reader into a format that the old POS system can process.\n"
   ]
  },
  {
   "cell_type": "code",
   "execution_count": 5,
   "id": "8b2f965b-a0f7-43ab-9cd7-3461c1f4cca6",
   "metadata": {},
   "outputs": [
    {
     "name": "stdout",
     "output_type": "stream",
     "text": [
      "Processing transaction with magnetic stripe: 1234-5678-9876-5432\n",
      "Processing transaction with chip: 1234-5678-9876-5432\n",
      "Processing transaction with chip: 1234-5678-9876-5432\n"
     ]
    }
   ],
   "source": [
    "\n",
    "# Old Payment System (incompatible)\n",
    "class OldCardReader:\n",
    "    def swipe_card(self, card_data):\n",
    "        return f\"Processing transaction with magnetic stripe: {card_data}\"\n",
    "\n",
    "# New Payment System (with chip card reader)\n",
    "class NewCardReader:\n",
    "    def chip_read(self, card_data):\n",
    "        return f\"Processing transaction with chip: {card_data}\"\n",
    "\n",
    "# Adapter to make the new card reader compatible with the old system\n",
    "class CardReaderAdapter:\n",
    "    def __init__(self, new_card_reader):\n",
    "        self.new_card_reader = new_card_reader\n",
    "\n",
    "    def swipe_card(self, card_data):\n",
    "        # The adapter translates the chip data into a format that the old reader understands\n",
    "        return self.new_card_reader.chip_read(card_data)\n",
    "\n",
    "# Usage\n",
    "old_reader = OldCardReader()\n",
    "print(old_reader.swipe_card(\"1234-5678-9876-5432\"))  # Output: Processing transaction with magnetic stripe: 1234-5678-9876-5432\n",
    "\n",
    "new_reader = NewCardReader()\n",
    "print(new_reader.chip_read(\"1234-5678-9876-5432\"))  # Output: Processing transaction with chip: 1234-5678-9876-5432\n",
    "\n",
    "# Using the adapter to connect the new system with the old interface\n",
    "adapter = CardReaderAdapter(new_reader)\n",
    "print(adapter.swipe_card(\"1234-5678-9876-5432\"))  # Output: Processing transaction with chip: 1234-5678-9876-5432\n"
   ]
  },
  {
   "cell_type": "markdown",
   "id": "62af4bc9-e1af-4895-a708-d5ffc1143784",
   "metadata": {},
   "source": [
    "## Explanation\n",
    "\n",
    "The Adapter Pattern allows two incompatible interfaces to work together by providing a bridge between them. In this pattern, an adapter translates one interface (how something expects to interact) into another interface that the system expects. This allows objects to collaborate, even if their interfaces don’t naturally fit together.\n"
   ]
  },
  {
   "cell_type": "markdown",
   "id": "b37c5577-7e26-47d7-95d4-0697260f5928",
   "metadata": {},
   "source": [
    "## Usage\n",
    "\n",
    "1. **Legacy Systems Integration**: Connecting old software with modern applications using adapters.\n",
    "2. **Charging Devices**: Power adapters convert plug types for different electronic devices.\n",
    "3. **Media Players**: Adapters enable different audio formats to play in a single player.\n",
    "4. **Database Access**: Adapters allow applications to interact with various database types seamlessly.\n",
    "5. **API Wrappers**: Adapters convert third-party APIs to a common interface for easier integration.\n"
   ]
  },
  {
   "cell_type": "code",
   "execution_count": null,
   "id": "e0e036ba-9562-47d0-bb20-2d834acc56e9",
   "metadata": {},
   "outputs": [],
   "source": []
  }
 ],
 "metadata": {
  "kernelspec": {
   "display_name": "Python 3 (ipykernel)",
   "language": "python",
   "name": "python3"
  },
  "language_info": {
   "codemirror_mode": {
    "name": "ipython",
    "version": 3
   },
   "file_extension": ".py",
   "mimetype": "text/x-python",
   "name": "python",
   "nbconvert_exporter": "python",
   "pygments_lexer": "ipython3",
   "version": "3.10.13"
  }
 },
 "nbformat": 4,
 "nbformat_minor": 5
}
