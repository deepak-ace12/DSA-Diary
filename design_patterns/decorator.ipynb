{
 "cells": [
  {
   "cell_type": "markdown",
   "id": "cad7f129-45a2-4958-88b1-e5ef1437706e",
   "metadata": {},
   "source": [
    "# Decorator\n",
    "\n",
    "The Decorator Pattern is a design pattern used in programming to add new functionality to an object or a class dynamically without altering its structure. It's like wrapping an existing object with additional features.\n",
    "\n",
    "## Concept in Simple Terms\n",
    "\n",
    "Imagine you have a plain cake. You can add different toppings like frosting, sprinkles, or fruit to make it more interesting. Each topping adds something extra but doesn’t change the basic cake itself.\n",
    "\n",
    "In programming, the decorator pattern is similar. You have a basic object, and you can \"decorate\" it by adding more features or behavior without changing the original object.\n"
   ]
  },
  {
   "cell_type": "code",
   "execution_count": 1,
   "id": "908a99b4-1ac4-48ce-8aaf-fd33dc0b0093",
   "metadata": {},
   "outputs": [
    {
     "name": "stdout",
     "output_type": "stream",
     "text": [
      "Plain text: Hello, world!\n",
      "Bold text: <b>Hello, world!</b>\n",
      "Italic and bold text: <i><b>Hello, world!</b></i>\n",
      "Underline, italic, and bold text: <u><i><b>Hello, world!</b></i></u>\n"
     ]
    }
   ],
   "source": [
    "# Base Text class\n",
    "class Text:\n",
    "    def get_text(self):\n",
    "        return \"Hello, world!\"  # default text\n",
    "\n",
    "# Decorator class\n",
    "class TextDecorator:\n",
    "    def __init__(self, text):\n",
    "        self._text = text\n",
    "    \n",
    "    def get_text(self):\n",
    "        return self._text.get_text()\n",
    "\n",
    "# Concrete decorator for making text bold\n",
    "class BoldDecorator(TextDecorator):\n",
    "    def get_text(self):\n",
    "        return f\"<b>{self._text.get_text()}</b>\"\n",
    "\n",
    "# Concrete decorator for making text italic\n",
    "class ItalicDecorator(TextDecorator):\n",
    "    def get_text(self):\n",
    "        return f\"<i>{self._text.get_text()}</i>\"\n",
    "\n",
    "# Concrete decorator for making text underlined\n",
    "class UnderlineDecorator(TextDecorator):\n",
    "    def get_text(self):\n",
    "        return f\"<u>{self._text.get_text()}</u>\"\n",
    "\n",
    "# Usage\n",
    "text = Text()\n",
    "print(\"Plain text:\", text.get_text())\n",
    "\n",
    "bold_text = BoldDecorator(text)\n",
    "print(\"Bold text:\", bold_text.get_text())\n",
    "\n",
    "italic_bold_text = ItalicDecorator(bold_text)\n",
    "print(\"Italic and bold text:\", italic_bold_text.get_text())\n",
    "\n",
    "underline_italic_bold_text = UnderlineDecorator(italic_bold_text)\n",
    "print(\"Underline, italic, and bold text:\", underline_italic_bold_text.get_text())"
   ]
  },
  {
   "cell_type": "markdown",
   "id": "3631d11b-5e22-476b-8405-ecc303b04fe1",
   "metadata": {},
   "source": [
    "## Usage\n",
    "\n",
    "1. **Coffee Shop**: Customers can customize drinks with add-ons (milk, sugar, flavors).\n",
    "2. **File I/O**: File streams can be wrapped with decorators for compression or encryption.\n",
    "3. **UI Components**: GUI frameworks allow adding features (scroll bars, borders) to widgets dynamically.\n",
    "4. **Notification Systems**: Notifications can be enhanced with priority levels or formatting styles.\n",
    "5. **Pizza Toppings**: Pizzerias offer customizable pizzas by adding various toppings to a base.\n"
   ]
  },
  {
   "cell_type": "code",
   "execution_count": null,
   "id": "eabce4a8-8cb6-4f9f-8f74-0dc23f022d6a",
   "metadata": {},
   "outputs": [],
   "source": []
  }
 ],
 "metadata": {
  "kernelspec": {
   "display_name": "Python 3 (ipykernel)",
   "language": "python",
   "name": "python3"
  },
  "language_info": {
   "codemirror_mode": {
    "name": "ipython",
    "version": 3
   },
   "file_extension": ".py",
   "mimetype": "text/x-python",
   "name": "python",
   "nbconvert_exporter": "python",
   "pygments_lexer": "ipython3",
   "version": "3.10.13"
  }
 },
 "nbformat": 4,
 "nbformat_minor": 5
}
