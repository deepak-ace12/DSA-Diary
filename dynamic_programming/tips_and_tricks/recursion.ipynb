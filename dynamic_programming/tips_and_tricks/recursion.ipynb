{
 "cells": [
  {
   "cell_type": "markdown",
   "id": "b9a21212-2235-460e-9222-c8eac438f017",
   "metadata": {},
   "source": [
    "## Steps to solve any Recursion problems\n",
    "1. Write the base condition\n",
    "2. Create a choice diagram\n",
    "3. Write the code with the help of base condition and choice diagram\n",
    "\n",
    "### Writing the Base Condition\n",
    "1. Think of the smallest valid input and the output for the same.\n",
    "   For example, to solve a knapsack problem to maximize profit, a function would take the weights, values, and the maximum capacity of the knapsack. The smallest valid case would be when there are no weights or values provided, the profit would be 0.\n",
    "\n",
    "    ```python3\n",
    "    if len(weigths) == 0 or capacity == 0:\n",
    "        return 0\n",
    "    ```\n",
    "\n",
    "   or for factorial the factorial of 0 will be 1\n",
    "\n",
    "   ```python3\n",
    "   if n == 0:\n",
    "       return 1\n",
    "    ```\n",
    "\n",
    "   or for fibonacci\n",
    "\n",
    "   ```python3\n",
    "   if n == 0:\n",
    "        return 0\n",
    "    elif n == 1:\n",
    "        return 1\n",
    "    ```\n",
    "\n",
    "<br>\n",
    "2. Think of the smallest invalid input as well for negative cases, for example for coinchange number of ways, when the list is empty but the amount is still greater than 0\n",
    "\n",
    "\n",
    "    ```python3\n",
    "    if n==0 and amount==0: # smallest valid input\n",
    "        return 1\n",
    "    if n==0 and amount!=0: # smallest invalid input\n",
    "        return 0\n",
    "    ```\n",
    "\n",
    "### Create a choice Diagram\n",
    "<div style=\"text-align: center;\">\n",
    "    <img src=\"../../static/knapsack_decision_tree.png\" alt=\"Description\" width=\"500\"/>\n",
    "</div>\n",
    "\n",
    "\n",
    "\n",
    "\n",
    "### Write the code with the help of base condition and choice diagram"
   ]
  },
  {
   "cell_type": "code",
   "execution_count": null,
   "id": "96669299-bfe1-4340-81ff-aaebb2796c59",
   "metadata": {},
   "outputs": [],
   "source": []
  }
 ],
 "metadata": {
  "kernelspec": {
   "display_name": "Python 3 (ipykernel)",
   "language": "python",
   "name": "python3"
  },
  "language_info": {
   "codemirror_mode": {
    "name": "ipython",
    "version": 3
   },
   "file_extension": ".py",
   "mimetype": "text/x-python",
   "name": "python",
   "nbconvert_exporter": "python",
   "pygments_lexer": "ipython3",
   "version": "3.10.13"
  }
 },
 "nbformat": 4,
 "nbformat_minor": 5
}
