{
 "cells": [
  {
   "cell_type": "markdown",
   "id": "9ce2b2dc-ede9-48e7-a263-f267a430d747",
   "metadata": {},
   "source": [
    "# Min Number of Coins"
   ]
  },
  {
   "cell_type": "code",
   "execution_count": 40,
   "id": "1e96bbb8-eae9-47ab-be93-0d05a4a5ad55",
   "metadata": {},
   "outputs": [],
   "source": [
    "def min_num_coins(coins: list, amount: int) -> int:\n",
    "    dp = [[float(\"inf\") for _ in range(amount + 1)] for _ in range(len(coins) + 1)]\n",
    "    for i in range(len(coins) + 1):\n",
    "        for j in range(amount + 1):\n",
    "            if j == 0:  # When the amount is 0, 0 coins are needed\n",
    "                dp[i][j] = 0\n",
    "    for i in range(1, len(coins) + 1):\n",
    "        for j in range(1, amount + 1):\n",
    "            if coins[i - 1] <= j:\n",
    "                dp[i][j] = min(1 + dp[i][j - coins[i - 1]], dp[i - 1][j])\n",
    "            else:\n",
    "                dp[i][j] = dp[i - 1][j]\n",
    "\n",
    "    return dp[len(coins)][amount]"
   ]
  },
  {
   "cell_type": "code",
   "execution_count": 50,
   "id": "be6e9b45-7272-402d-beec-d3400d6e1db2",
   "metadata": {},
   "outputs": [
    {
     "data": {
      "text/plain": [
       "1767"
      ]
     },
     "execution_count": 50,
     "metadata": {},
     "output_type": "execute_result"
    }
   ],
   "source": [
    "coins = [25, 10, 5]\n",
    "amount = 44145\n",
    "min_num_coins(coins, amount)"
   ]
  },
  {
   "cell_type": "code",
   "execution_count": null,
   "id": "950fa1b6-04f1-414f-b270-7ae6fa64d29d",
   "metadata": {},
   "outputs": [],
   "source": []
  },
  {
   "cell_type": "code",
   "execution_count": null,
   "id": "65b8ea7e-7b5f-413d-9998-9b465686442e",
   "metadata": {},
   "outputs": [],
   "source": []
  }
 ],
 "metadata": {
  "kernelspec": {
   "display_name": "Python 3 (ipykernel)",
   "language": "python",
   "name": "python3"
  },
  "language_info": {
   "codemirror_mode": {
    "name": "ipython",
    "version": 3
   },
   "file_extension": ".py",
   "mimetype": "text/x-python",
   "name": "python",
   "nbconvert_exporter": "python",
   "pygments_lexer": "ipython3",
   "version": "3.10.13"
  }
 },
 "nbformat": 4,
 "nbformat_minor": 5
}
