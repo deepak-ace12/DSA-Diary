{
 "cells": [
  {
   "cell_type": "markdown",
   "id": "fbe19461-ce34-4522-bdcf-50d89cd63dc1",
   "metadata": {},
   "source": [
    "### **Unbounded Knapsack Problem:**\n",
    "\n",
    "The **Unbounded Knapsack Problem** is a variation of the knapsack problem where you have an unlimited supply of each item. The objective is to maximize the total value you can carry in a knapsack with a fixed capacity, while being allowed to take as many copies of an item as you want, as long as the total weight doesn't exceed the capacity of the knapsack.\n",
    "\n",
    "### **Key Points:**\n",
    "- **Capacity**: The maximum weight the knapsack can hold.\n",
    "- **Items**: Each item has a weight and a value.\n",
    "- **Unlimited Quantity**: You can take **as many copies** of each item as you want.\n",
    "- **Goal**: Maximize the total value without exceeding the weight capacity.\n",
    "\n",
    "---\n",
    "\n",
    "### **Comparison Between 0/1 Knapsack and Unbounded Knapsack**\n",
    "\n",
    "| **Feature**               | **0/1 Knapsack**                              | **Unbounded Knapsack**                       |\n",
    "|---------------------------|-----------------------------------------------|----------------------------------------------|\n",
    "| **Item Selection**         | You can take **each item at most once**.      | You can take **multiple copies** of the same item. |\n",
    "| **Goal**                   | Maximize the total value while keeping the weight under the capacity. | Same goal, but you can repeat items.         |\n",
    "| **Item Limit**             | **One item per type**.                        | **Unlimited supply** of each item.           |\n",
    "| **Example**                | Choose one book, one gadget, etc.              | Take multiple copies of the same book, if it gives you the most value. |\n",
    "| **Complexity**             | Slightly more complex to solve (often solved using dynamic programming). | Also solved by dynamic programming but needs to handle the multiple copies scenario. |\n",
    "\n",
    "\n",
    "### Key difference in code of 0/1 Knapsack and Unbounded Knapsack\n",
    "Everything including the initialization, return type, matrix size, etc is of unbounded knapsack is same, the only key difference is that we'll be able to use same item multiple times.\n",
    "\n",
    "#### 0/1 Knapsack\n",
    "\n",
    "```python3\n",
    "if (weights[i - 1] <= j):\n",
    "    dp[i][j] = max(values[i - 1] + dp[i - 1][j - weights[i - 1]], dp[i - 1][j])\n",
    "else:\n",
    "    dp[i][j] = dp[i - 1][j]\n",
    "```\n",
    "\n",
    "#### Unbounded Knapsack\n",
    "```python3\n",
    "if (weights[i - 1] <= j):\n",
    "    dp[i][j] = max(values[i - 1] + dp[i][j - weights[i - 1]], dp[i - 1][j])\n",
    "else:\n",
    "    dp[i][j] = dp[i - 1][j]\n",
    "```\n",
    "i.e. If I am selecting an item, I can select it multiple times"
   ]
  },
  {
   "cell_type": "code",
   "execution_count": null,
   "id": "f7ce7da2-36ab-413f-9c70-1cfa587287df",
   "metadata": {},
   "outputs": [],
   "source": []
  }
 ],
 "metadata": {
  "kernelspec": {
   "display_name": "Python 3 (ipykernel)",
   "language": "python",
   "name": "python3"
  },
  "language_info": {
   "codemirror_mode": {
    "name": "ipython",
    "version": 3
   },
   "file_extension": ".py",
   "mimetype": "text/x-python",
   "name": "python",
   "nbconvert_exporter": "python",
   "pygments_lexer": "ipython3",
   "version": "3.10.13"
  }
 },
 "nbformat": 4,
 "nbformat_minor": 5
}
