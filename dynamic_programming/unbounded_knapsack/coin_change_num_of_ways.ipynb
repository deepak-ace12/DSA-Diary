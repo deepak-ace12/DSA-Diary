{
 "cells": [
  {
   "cell_type": "code",
   "execution_count": 26,
   "id": "517a998d-35ee-4cd9-8789-9207e55aa8aa",
   "metadata": {},
   "outputs": [],
   "source": [
    "def coin_change_ways(coins: list, amount: int):\n",
    "    dp = [[0 for _ in range(amount+1)] for _ in range(len(coins)+1)]\n",
    "\n",
    "    for i in range(len(coins)+1):\n",
    "        dp[i][0] = 1\n",
    "    for i in range(1, len(coins)+1):\n",
    "        for j in range(amount+1):\n",
    "            if j == 0:\n",
    "                continue # already covered above\n",
    "            if coins[i-1] <= j:\n",
    "                dp[i][j] = dp[i][j-coins[i-1]] + dp[i-1][j]\n",
    "            else:\n",
    "                dp[i][j] = dp[i-1][j]\n",
    "    return dp[len(coins)][amount]"
   ]
  },
  {
   "cell_type": "code",
   "execution_count": 30,
   "id": "f309f1fb-6c36-4491-a974-c9ab87098416",
   "metadata": {},
   "outputs": [
    {
     "data": {
      "text/plain": [
       "5"
      ]
     },
     "execution_count": 30,
     "metadata": {},
     "output_type": "execute_result"
    }
   ],
   "source": [
    "coins = [2,5, 3, 6]\n",
    "amount = 10\n",
    "coin_change_ways(coins, amount)"
   ]
  },
  {
   "cell_type": "code",
   "execution_count": 31,
   "id": "662af698-b963-42ca-89e7-9a28dd3097d6",
   "metadata": {},
   "outputs": [],
   "source": [
    "dp1 = [[0 for _ in range(amount+1)] for _ in range(len(coins)+1)]\n"
   ]
  },
  {
   "cell_type": "code",
   "execution_count": null,
   "id": "0fd269c5-5261-4bca-82f2-48fb0f5e6ce8",
   "metadata": {},
   "outputs": [],
   "source": []
  }
 ],
 "metadata": {
  "kernelspec": {
   "display_name": "Python 3 (ipykernel)",
   "language": "python",
   "name": "python3"
  },
  "language_info": {
   "codemirror_mode": {
    "name": "ipython",
    "version": 3
   },
   "file_extension": ".py",
   "mimetype": "text/x-python",
   "name": "python",
   "nbconvert_exporter": "python",
   "pygments_lexer": "ipython3",
   "version": "3.10.13"
  }
 },
 "nbformat": 4,
 "nbformat_minor": 5
}
