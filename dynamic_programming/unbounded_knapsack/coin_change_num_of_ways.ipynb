{
 "cells": [
  {
   "cell_type": "code",
   "execution_count": 1,
   "id": "517a998d-35ee-4cd9-8789-9207e55aa8aa",
   "metadata": {},
   "outputs": [],
   "source": [
    "def coin_change_ways(coins: list, amount: int):\n",
    "    dp = [[0 for _ in range(amount+1)] for _ in range(len(coins)+1)]\n",
    "\n",
    "    for i in range(len(coins)+1):\n",
    "        dp[i][0] = 1\n",
    "    for i in range(1, len(coins)+1):\n",
    "        for j in range(amount+1):\n",
    "            if j == 0:\n",
    "                continue # already covered above\n",
    "            if coins[i-1] <= j:\n",
    "                dp[i][j] = dp[i][j-coins[i-1]] + dp[i-1][j] # Add all possible combinations\n",
    "            else:\n",
    "                dp[i][j] = dp[i-1][j]\n",
    "    return dp[len(coins)][amount]"
   ]
  },
  {
   "cell_type": "code",
   "execution_count": 2,
   "id": "f309f1fb-6c36-4491-a974-c9ab87098416",
   "metadata": {},
   "outputs": [
    {
     "data": {
      "text/plain": [
       "5"
      ]
     },
     "execution_count": 2,
     "metadata": {},
     "output_type": "execute_result"
    }
   ],
   "source": [
    "coins = [2,5, 3, 6]\n",
    "amount = 10\n",
    "coin_change_ways(coins, amount)"
   ]
  },
  {
   "cell_type": "code",
   "execution_count": 31,
   "id": "662af698-b963-42ca-89e7-9a28dd3097d6",
   "metadata": {},
   "outputs": [],
   "source": [
    "dp1 = [[0 for _ in range(amount+1)] for _ in range(len(coins)+1)]\n"
   ]
  },
  {
   "cell_type": "code",
   "execution_count": 13,
   "id": "0fd269c5-5261-4bca-82f2-48fb0f5e6ce8",
   "metadata": {},
   "outputs": [],
   "source": [
    "def coin_change_ways_rec(coins: list, amount: int, n) -> int:\n",
    "    if n == 0 and amount == 0:\n",
    "        return 1\n",
    "    if n == 0 and amount != 0:\n",
    "        return 0\n",
    "    if coins[n-1] <= amount:\n",
    "        return coin_change_ways_rec(coins, amount-coins[n-1], n) + coin_change_ways_rec(coins, amount, n-1)\n",
    "    else:\n",
    "        return coin_change_ways_rec(coins, amount, n-1)"
   ]
  },
  {
   "cell_type": "code",
   "execution_count": 16,
   "id": "0951fc3b-4a85-412c-8ec7-d6d63945d372",
   "metadata": {},
   "outputs": [
    {
     "data": {
      "text/plain": [
       "4"
      ]
     },
     "execution_count": 16,
     "metadata": {},
     "output_type": "execute_result"
    }
   ],
   "source": [
    "coins = [1, 2, 3]\n",
    "amount = 4\n",
    "coin_change_ways_rec(coins, amount, len(coins))"
   ]
  },
  {
   "cell_type": "code",
   "execution_count": null,
   "id": "3eeb3fac-5bb6-4220-9f63-03108d21a2bc",
   "metadata": {},
   "outputs": [],
   "source": []
  }
 ],
 "metadata": {
  "kernelspec": {
   "display_name": "Python 3 (ipykernel)",
   "language": "python",
   "name": "python3"
  },
  "language_info": {
   "codemirror_mode": {
    "name": "ipython",
    "version": 3
   },
   "file_extension": ".py",
   "mimetype": "text/x-python",
   "name": "python",
   "nbconvert_exporter": "python",
   "pygments_lexer": "ipython3",
   "version": "3.10.13"
  }
 },
 "nbformat": 4,
 "nbformat_minor": 5
}
