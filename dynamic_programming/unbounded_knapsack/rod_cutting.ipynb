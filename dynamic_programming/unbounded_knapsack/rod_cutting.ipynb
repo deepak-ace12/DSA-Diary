{
 "cells": [
  {
   "cell_type": "markdown",
   "id": "7875f455-bc92-4c5c-a902-464a002131ad",
   "metadata": {},
   "source": [
    "#### Problem Statement: Rod Cutting (Dynamic Programming)\n",
    "You are given a rod of length n inches and a list of prices P[i] for each piece of length i (where i is from 1 to n). Your task is to determine the maximum profit that can be obtained by cutting the rod into one or more pieces and selling the pieces according to the given prices.\n",
    "\n",
    "You need to find the maximum possible revenue you can achieve by cutting the rod into pieces of different lengths and selling them."
   ]
  },
  {
   "cell_type": "markdown",
   "id": "ebf280cd-5469-4ba2-8872-9b8c0b3d3e5d",
   "metadata": {},
   "source": [
    "The solution is same as the 0/1 knapsack problem, only this time we will be able to use same item multiple times."
   ]
  },
  {
   "cell_type": "code",
   "execution_count": 1,
   "id": "3a6b2599-3463-4487-a326-4642721d5e18",
   "metadata": {},
   "outputs": [],
   "source": [
    "def maximize_profit_matrix(lengths: list, prices: list, capacity: int):\n",
    "    dp = []\n",
    "    for i in range(len(lengths) + 1):\n",
    "        row = []\n",
    "        for j in range(capacity + 1):\n",
    "            if (\n",
    "                i == 0 or j == 0\n",
    "            ):  # base condition when capacity is 0 and weights list is empty\n",
    "                row.append(0)\n",
    "            else:\n",
    "                row.append(-1)\n",
    "        dp.append(row)\n",
    "\n",
    "    for i in range(1, len(lengths) + 1):\n",
    "        for j in range(1, capacity + 1):\n",
    "            # i is weight, j is capacity\n",
    "            if (\n",
    "                lengths[i - 1] <= j\n",
    "            ):\n",
    "                dp[i][j] = max(\n",
    "                    prices[i - 1] + dp[i][j - lengths[i - 1]], dp[i - 1][j]\n",
    "                )\n",
    "            else:\n",
    "                dp[i][j] = dp[i - 1][j]\n",
    "    return dp[len(lengths)][capacity]"
   ]
  },
  {
   "cell_type": "code",
   "execution_count": 2,
   "id": "5f9e2249-f9f9-4c89-857d-473caf32a550",
   "metadata": {},
   "outputs": [
    {
     "data": {
      "text/plain": [
       "35"
      ]
     },
     "execution_count": 2,
     "metadata": {},
     "output_type": "execute_result"
    }
   ],
   "source": [
    "lengths = [1, 2, 3, 4, 5, 6, 7, 8]\n",
    "prices = [1, 5, 8, 9, 10, 17, 17, 20]\n",
    "capacity = 13\n",
    "maximize_profit_matrix(lengths, prices, capacity)"
   ]
  },
  {
   "cell_type": "markdown",
   "id": "5140d07b-c070-4e8d-ada6-c78ed6c2a082",
   "metadata": {},
   "source": [
    "length6 + length6 + length1"
   ]
  }
 ],
 "metadata": {
  "kernelspec": {
   "display_name": "Python 3 (ipykernel)",
   "language": "python",
   "name": "python3"
  },
  "language_info": {
   "codemirror_mode": {
    "name": "ipython",
    "version": 3
   },
   "file_extension": ".py",
   "mimetype": "text/x-python",
   "name": "python",
   "nbconvert_exporter": "python",
   "pygments_lexer": "ipython3",
   "version": "3.10.13"
  }
 },
 "nbformat": 4,
 "nbformat_minor": 5
}
