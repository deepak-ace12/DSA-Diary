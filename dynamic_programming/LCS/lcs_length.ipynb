{
 "cells": [
  {
   "cell_type": "markdown",
   "id": "5f7142a5-be3a-4994-bad2-63c046179a38",
   "metadata": {},
   "source": [
    "# Longest Common Subsequence (LCS) Problem Statement\n",
    "\n",
    "The **Longest Common Subsequence (LCS)** is a classic problem in computer science, particularly in string comparison and dynamic programming.\n",
    "\n",
    "## Problem Statement:\n",
    "\n",
    "Given two sequences (strings or arrays), the task is to find the **length of their longest common subsequence**. A subsequence is defined as a sequence that appears in the same relative order, but not necessarily consecutively.\n",
    "\n",
    "### Formal Definition:\n",
    "\n",
    "Let `X` and `Y` be two sequences:\n",
    "- `X = x1, x2, ..., xm` (length = `m`)\n",
    "- `Y = y1, y2, ..., yn` (length = `n`)\n",
    "\n",
    "The goal is to find the length of the **longest subsequence** that is present in both `X` and `Y`.\n",
    "\n",
    "### Example:\n",
    "\n",
    "1. `X = \"ABCBDAB\"`\n",
    "2. `Y = \"BDCABB\"`\n",
    "\n",
    "In this case, the longest common subsequence is `\"BCAB\"`, which has a length of `4`.\n",
    "\n",
    "### Key Points:\n",
    "- **Subsequence**: A subsequence is derived by deleting some (or none) of the characters in a sequence without changing the order of the remaining characters.\n",
    "- **Longest Common Subsequence (LCS)**: The LCS is the longest sequence that is a subsequence of both `X` and `Y`.\n",
    "- The LCS does **not** require the elements to be consecutive, but they must appear in the same relative order.\n",
    "\n",
    "### Example Walkthrough:\n",
    "\n",
    "Consider the two strings `X = \"ABCBDAB\"` and `Y = \"BDCABB\"`. We can identify several subsequences common to both, such as:\n",
    "- `\"BCAB\"` (length = 4)\n",
    "- `\"BDAB\"` (length = 4)\n",
    "- `\"BAB\"` (length = 3)\n",
    "\n",
    "The longest of these is `\"BCAB\"`, so the LCS length is `4`.\n"
   ]
  },
  {
   "cell_type": "markdown",
   "id": "531d567a-e362-4e6b-a0ee-7042eac51a38",
   "metadata": {},
   "source": [
    "## Base Condition\n",
    "```python3\n",
    "    if len(string1) == 0 or length(string2) == 0:\n",
    "        return 0\n",
    "```\n",
    "\n",
    "## Create a choice Diagram\n",
    "<div style=\"text-align: center;\">\n",
    "    <img src=\"../../static/lcs.png\" alt=\"Description\" width=\"500\"/>\n",
    "</div>\n",
    "\n"
   ]
  },
  {
   "cell_type": "code",
   "execution_count": 1,
   "id": "223ce93b-0596-483b-881e-bfdd61e2a161",
   "metadata": {},
   "outputs": [],
   "source": [
    "def lcs_length(str1: str, str2: str, n: int, m: int):\n",
    "    if n==0 or m ==0:\n",
    "        return 0\n",
    "    if str1[n-1] == str2[m-1]: # n and m are not indices but the length of the strings\n",
    "         return 1 + lcs_length(str1, str2, n-1, m-1)\n",
    "    else:\n",
    "        return max(lcs_length(str1, str2, n, m-1), lcs_length(str1, str2, n-1, m))"
   ]
  },
  {
   "cell_type": "code",
   "execution_count": 2,
   "id": "68c8c5f9-b193-48af-b5de-200bd3db81b9",
   "metadata": {},
   "outputs": [
    {
     "data": {
      "text/plain": [
       "4"
      ]
     },
     "execution_count": 2,
     "metadata": {},
     "output_type": "execute_result"
    }
   ],
   "source": [
    "str1=\"ABCBDAB\"\n",
    "str2=\"BDCABB\"\n",
    "lcs_length(str1, str2, len(str1), len(str2))"
   ]
  },
  {
   "cell_type": "code",
   "execution_count": null,
   "id": "33f7f14c-d87b-4be1-a2dc-cae70a587f6b",
   "metadata": {},
   "outputs": [],
   "source": []
  }
 ],
 "metadata": {
  "kernelspec": {
   "display_name": "Python 3 (ipykernel)",
   "language": "python",
   "name": "python3"
  },
  "language_info": {
   "codemirror_mode": {
    "name": "ipython",
    "version": 3
   },
   "file_extension": ".py",
   "mimetype": "text/x-python",
   "name": "python",
   "nbconvert_exporter": "python",
   "pygments_lexer": "ipython3",
   "version": "3.10.13"
  }
 },
 "nbformat": 4,
 "nbformat_minor": 5
}
