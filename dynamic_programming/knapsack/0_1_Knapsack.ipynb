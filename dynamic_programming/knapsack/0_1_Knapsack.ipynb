{
 "cells": [
  {
   "attachments": {},
   "cell_type": "markdown",
   "id": "1a7d32c2-ad0b-4d87-9c65-ccc68dfc916d",
   "metadata": {},
   "source": [
    "## Steps to solve any Recursion problems\n",
    "1. Write the base condition\n",
    "2. Create a choice diagram\n",
    "3. Write the code with the help of base condition and choice diagram\n",
    "\n",
    "### Writing the Base Condition\n",
    "1. Think of the smallest valid input and the output for the same.\n",
    "   For example, to solve a knapsack problem to maximize profit, a function would take the weights, values, and the maximum capacity of the knapsack. The smallest valid case would be when there are no weights or values provided, the profit would be 0.\n",
    "\n",
    "    ```python3\n",
    "    if len(weigths) == 0 or len(values) == 0:\n",
    "        return 0\n",
    "    ```\n",
    "\n",
    "### Create a choice Diagram\n",
    "<div style=\"text-align: center;\">\n",
    "    <img src=\"../../static/knapsack_decision_tree.png\" alt=\"Description\" width=\"500\"/>\n",
    "</div>\n",
    "\n",
    "\n",
    "\n",
    "\n",
    "### Write the code with the help of base condition and choice diagram"
   ]
  },
  {
   "cell_type": "code",
   "execution_count": 21,
   "id": "99b7c409-4253-491b-a435-b23151e55788",
   "metadata": {},
   "outputs": [],
   "source": [
    "def maximize_profit(weights: list, values: list, capacity: int) -> int:\n",
    "    if len(weights) == 0 or len(values) == 0:\n",
    "        return 0\n",
    "    if weights[0] <= capacity:\n",
    "        return max(\n",
    "            values[0] + maximize_profit(weights[1:], values[1:], capacity - weights[0]),\n",
    "            maximize_profit(weights[1:], values[1:], capacity),\n",
    "        )\n",
    "    else:\n",
    "        return maximize_profit(weights[1:], values[1:], capacity)"
   ]
  },
  {
   "cell_type": "code",
   "execution_count": 22,
   "id": "1c2cfd33-e002-4417-b9e8-399eb1933fab",
   "metadata": {},
   "outputs": [
    {
     "data": {
      "text/plain": [
       "175"
      ]
     },
     "execution_count": 22,
     "metadata": {},
     "output_type": "execute_result"
    }
   ],
   "source": [
    "weights = [1, 2, 3, 4, 5, 6, 7, 8, 9, 10]\n",
    "values = [10, 15, 40, 30, 50, 10, 25, 40, 60, 70]\n",
    "capacity = 20\n",
    "maximize_profit(weights, values, capacity)\n"
   ]
  },
  {
   "cell_type": "markdown",
   "id": "29fb2a8e-717a-4d79-a56b-9e41f431ebf2",
   "metadata": {},
   "source": [
    "### Another way to solve the above problem in more object oriented way or Array way\n",
    "\n",
    "This method helps to convert recursive approach to top down or tabular approach that we'll see later in the notebook."
   ]
  },
  {
   "cell_type": "code",
   "execution_count": 34,
   "id": "4b5abf21-d000-4ecf-ac50-2d681ad3ed57",
   "metadata": {},
   "outputs": [],
   "source": [
    "def maximize_profit_array(weights: list, values: list, capacity: int, n: int) -> int:\n",
    "    if capacity == 0 or n == 0:\n",
    "        return 0\n",
    "    if weights[n-1] <= capacity:\n",
    "        return max(\n",
    "            values[n-1] + maximize_profit_array(weights, values, capacity - weights[n-1], n-1),\n",
    "            maximize_profit_array(weights, values, capacity, n-1),\n",
    "        )\n",
    "    else:\n",
    "        return maximize_profit_array(weights, values, capacity, n-1)"
   ]
  },
  {
   "cell_type": "code",
   "execution_count": 43,
   "id": "bba06186-d394-416b-b8c4-044650f14498",
   "metadata": {},
   "outputs": [
    {
     "data": {
      "text/plain": [
       "175"
      ]
     },
     "execution_count": 43,
     "metadata": {},
     "output_type": "execute_result"
    }
   ],
   "source": [
    "weights = [1, 2, 3, 4, 5, 6, 7, 8, 9, 10]\n",
    "values = [10, 15, 40, 30, 50, 10, 25, 40, 60, 70]\n",
    "capacity = 20\n",
    "num_items = 10\n",
    "maximize_profit_array(weights, values, capacity, num_items)"
   ]
  },
  {
   "cell_type": "markdown",
   "id": "35c4e20d-32da-4d38-816e-61f63ef93778",
   "metadata": {},
   "source": [
    "### Knapsack with memoization"
   ]
  },
  {
   "cell_type": "code",
   "execution_count": 41,
   "id": "00f6be59-7b21-4e85-8fa2-33db953d31f3",
   "metadata": {},
   "outputs": [],
   "source": [
    "memo = {}\n",
    "def maximize_profit_memo(weights: list, values: list, capacity: int, n: int) -> int:\n",
    "    if n-1 < 0:\n",
    "        return 0\n",
    "    if (n-1, capacity) in memo:\n",
    "        return memo[(n-1, capacity)]\n",
    "    if weights[n-1] <= capacity:\n",
    "        memo[(n-1, capacity)] = max(\n",
    "            values[n-1] + maximize_profit_memo(weights, values, capacity - weights[n-1], n-1),\n",
    "            maximize_profit_memo(weights, values, capacity, n-1),\n",
    "        )\n",
    "    else: \n",
    "        memo[(n-1, capacity)] = maximize_profit_memo(weights, values, capacity, n-1)\n",
    "    return memo[(n-1, capacity)]\n",
    "        "
   ]
  },
  {
   "cell_type": "code",
   "execution_count": 42,
   "id": "bc0dc969-52b2-441f-88b2-c5ef517f9c37",
   "metadata": {},
   "outputs": [
    {
     "data": {
      "text/plain": [
       "175"
      ]
     },
     "execution_count": 42,
     "metadata": {},
     "output_type": "execute_result"
    }
   ],
   "source": [
    "weights = [1, 2, 3, 4, 5, 6, 7, 8, 9, 10]\n",
    "values = [10, 15, 40, 30, 50, 10, 25, 40, 60, 70]\n",
    "capacity = 20\n",
    "num_items = 10\n",
    "maximize_profit_memo(weights, values, capacity, num_items)"
   ]
  },
  {
   "cell_type": "markdown",
   "id": "ccf427f1-f66b-43fa-898a-7490ff4d2f6e",
   "metadata": {},
   "source": [
    "### Why Memoize Based on Items Left\n",
    "\n",
    "\n",
    "1. By focusing on the number of items left, we can easily define our current situation: \"I have 3 items left, and my knapsack can hold 10 units.\". Since we are going in order, the 3 left items will be same for all cases.\n",
    "\n",
    "2. As you make choices about items, certain combinations of remaining items and capacity will recur. For instance, if you face the same scenario again (3 items left, 10 units capacity), you want to avoid recalculating it.\n",
    "\n",
    "3. By storing the results of previous calculations (in memo), when you reach that same situation later, you can just look up the answer instead of redoing all the work.\n",
    "\n"
   ]
  },
  {
   "cell_type": "markdown",
   "id": "8d57ef7b-dc35-4f7c-9875-84ee6741ce30",
   "metadata": {},
   "source": [
    "## Converting Recursion to Dynamic Programming using Matrix\n",
    "\n",
    "- Define the Problem Dimensions: Create a 2D matrix (or array) of size (n + 1) x (m + 1), where n represents the number of items (or the current index) and m represents the capacity (or other varying parameter).\n",
    "\n",
    "    - The extra row and column usually represent base cases (like zero-length sequences). For example, in problems like string matching or the longest common subsequence, having an additional row and column can allow you to directly access base cases without special handling.\n",
    "\n",
    "- Account for Base Cases: The extra +1 space is used to accommodate the base conditions, such as when either the number of items is 0 or the capacity is 0.\n",
    "\n",
    "- Initialize the Matrix: Fill the matrix with appropriate base case values. For many problems, the 0th row and 0th column should be initialized to 0, representing scenarios where no items are considered or the capacity is zero:\n",
    "\n",
    "  ```python3\n",
    "    if capacity == 0 or n == 0:\n",
    "        return 0\n",
    "    ```"
   ]
  },
  {
   "cell_type": "code",
   "execution_count": 70,
   "id": "3bdcf479-3151-4ead-b342-3bcc3c5140b6",
   "metadata": {},
   "outputs": [],
   "source": [
    "def maximize_profit_matrix(weights: list, values: list, capacity: int):\n",
    "    dp = []\n",
    "    for i in range(len(weights) + 1):\n",
    "        row = []\n",
    "        for j in range(capacity + 1):\n",
    "            if (\n",
    "                i == 0 or j == 0\n",
    "            ):  # base condition when capacity is 0 and weights list is empty\n",
    "                row.append(0)\n",
    "            else:\n",
    "                row.append(-1)\n",
    "        dp.append(row)\n",
    "\n",
    "    for i in range(1, len(weights) + 1):\n",
    "        for j in range(1, capacity + 1):\n",
    "            # i is weight, j is capacity\n",
    "            if  if (\n",
    "                i == 0 or j == 0\n",
    "            ):\n",
    "                dp[\n",
    "            if (\n",
    "                weights[i - 1] <= j\n",
    "            ):  # We start i from 1 because the first row of our DP table (i.e., dp[0][...]) corresponds to the base case where no items are included\n",
    "                dp[i][j] = max(\n",
    "                    values[i - 1] + dp[i - 1][j - weights[i - 1]], dp[i - 1][j]\n",
    "                )\n",
    "            else:\n",
    "                dp[i][j] = dp[i - 1][j]\n",
    "    return dp[i][j]"
   ]
  },
  {
   "cell_type": "code",
   "execution_count": 71,
   "id": "02998d66-a99d-415e-b1f7-06d5d967dc2a",
   "metadata": {},
   "outputs": [
    {
     "data": {
      "text/plain": [
       "175"
      ]
     },
     "execution_count": 71,
     "metadata": {},
     "output_type": "execute_result"
    }
   ],
   "source": [
    "weights = [1, 2, 3, 4, 5, 6, 7, 8, 9, 10]\n",
    "values = [10, 15, 40, 30, 50, 10, 25, 40, 60, 70]\n",
    "capacity = 20\n",
    "maximize_profit_matrix(weights, values, capacity)"
   ]
  },
  {
   "cell_type": "markdown",
   "id": "48afbdfe-bdac-46d7-9943-00700465e91a",
   "metadata": {},
   "source": [
    "### Indexing of Items vs. Capacities:\n",
    "- i (Items): We start i from 1 because the first row of our DP table (i.e., dp[0][...]) corresponds to the case where no items are included. This row is used to initialize the profits when no items are considered. The row representing 0 items (i.e., dp[0][...]) serves as the base case. It tells us that if there are no items to include, the maximum profit for any capacity is 0.\n",
    "  \n",
    "- j (Capacities): We can start j from 0 (although we have started it from 1 because we have already initialized the first columns with zeroes) to represent all capacities, including 0. This is necessary to correctly compute profits for scenarios where the capacity of the knapsack is zero."
   ]
  },
  {
   "cell_type": "code",
   "execution_count": null,
   "id": "8f084534-dd96-487a-8215-c49e917ed19c",
   "metadata": {},
   "outputs": [],
   "source": []
  }
 ],
 "metadata": {
  "kernelspec": {
   "display_name": "Python 3 (ipykernel)",
   "language": "python",
   "name": "python3"
  },
  "language_info": {
   "codemirror_mode": {
    "name": "ipython",
    "version": 3
   },
   "file_extension": ".py",
   "mimetype": "text/x-python",
   "name": "python",
   "nbconvert_exporter": "python",
   "pygments_lexer": "ipython3",
   "version": "3.10.13"
  }
 },
 "nbformat": 4,
 "nbformat_minor": 5
}
